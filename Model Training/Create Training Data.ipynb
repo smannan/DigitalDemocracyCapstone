{
 "cells": [
  {
   "cell_type": "markdown",
   "metadata": {},
   "source": [
    "# Create Training Data"
   ]
  },
  {
   "cell_type": "code",
   "execution_count": null,
   "metadata": {
    "collapsed": true
   },
   "outputs": [],
   "source": [
    "import sys\n",
    "import pandas as pd"
   ]
  },
  {
   "cell_type": "markdown",
   "metadata": {},
   "source": [
    "### Determine inputs."
   ]
  },
  {
   "cell_type": "code",
   "execution_count": null,
   "metadata": {
    "collapsed": true
   },
   "outputs": [],
   "source": [
    "default_cleaned_raw_filename = \"../data/cleaned/cleaned_raw.csv2\"\n",
    "default_temp_folder = \".\"\n",
    "default_output_folder = \".\""
   ]
  },
  {
   "cell_type": "code",
   "execution_count": null,
   "metadata": {
    "collapsed": false
   },
   "outputs": [],
   "source": [
    "cleaned_raw_filename = default_cleaned_raw_filename\n",
    "temp_folder = default_temp_folder\n",
    "output_folder = default_output_folder"
   ]
  },
  {
   "cell_type": "code",
   "execution_count": null,
   "metadata": {
    "collapsed": false
   },
   "outputs": [],
   "source": [
    "#constants\n",
    "TEMP_BILL_START_END_TIMES_ALL_FILENAME = temp_folder + \"/temp_bill_start_end_times_all.csv\"\n",
    "TEMP_BILL_START_END_TIMES_LONGEST_FILENAME = temp_folder + \"/temp_bill_start_end_times_longest.csv\"\n",
    "\n",
    "OUTPUT_TRAINING_BINARY_FILENAME = output_folder + \"/training_output_binary_filename.csv\"\n",
    "OUTPUT_TRAINING_N_RANGE_FILENAME = output_folder + \"/training_output_n_range_filename.csv\"\n",
    "OUTPUT_TRAINING_N_RANGE_COLLAPSED_FILENAME = output_folder + \"/training_output_n_range_collapsed_filename.csv\"\n",
    "OUTPUT_TRAINING_BINARY_FILENAME_SEPERATED = output_folder + \"/training_output_binary_filename_seperated.csv\""
   ]
  },
  {
   "cell_type": "markdown",
   "metadata": {},
   "source": [
    "### Determine which bill times table will be used (recommended: longest)."
   ]
  },
  {
   "cell_type": "code",
   "execution_count": null,
   "metadata": {
    "collapsed": true
   },
   "outputs": [],
   "source": [
    "bill_start_end_times_filename = TEMP_BILL_START_END_TIMES_LONGEST_FILENAME"
   ]
  },
  {
   "cell_type": "markdown",
   "metadata": {},
   "source": [
    "### Mark transition lines (binary)."
   ]
  },
  {
   "cell_type": "code",
   "execution_count": null,
   "metadata": {
    "collapsed": false
   },
   "outputs": [],
   "source": [
    "print(\"...Creating training data...\")"
   ]
  },
  {
   "cell_type": "code",
   "execution_count": null,
   "metadata": {
    "collapsed": false
   },
   "outputs": [],
   "source": [
    "def get_transition_value(line, video_id, bill_start_time, bill_end_time):\n",
    "    utterance_start_time = int(line.split(\"~\")[0])\n",
    "    utterance_end_time = int(line.split(\"~\")[1])\n",
    "    utterance_video_id = line.split(\"~\")[2]\n",
    "    \n",
    "    if (video_id == utterance_video_id and\n",
    "        utterance_end_time > bill_start_time and\n",
    "        utterance_start_time < bill_end_time):\n",
    "        return 1\n",
    "    else:\n",
    "        return 0"
   ]
  },
  {
   "cell_type": "code",
   "execution_count": null,
   "metadata": {
    "collapsed": true
   },
   "outputs": [],
   "source": [
    "def seperate_pre_post_cols(line):\n",
    "    line = line[0].split(\" \")\n",
    "    \n",
    "    pres = ' '.join([word for word in line if \"PRE-\" in word]).strip()\n",
    "    posts = ' '.join([word for word in line if \"POST-\" in word]).strip()\n",
    "    text = ' '.join([word for word in line if (\"POST-\" not in word) and (\"PRE-\" not in word)]).strip()\n",
    "    \n",
    "    return (pres, posts, text)"
   ]
  },
  {
   "cell_type": "code",
   "execution_count": null,
   "metadata": {
    "collapsed": true
   },
   "outputs": [],
   "source": [
    "def write_pre_post_cols(line, transition_value):\n",
    "    line = line.split(\"~\")\n",
    "    pres, posts, text = seperate_pre_post_cols(line[3:])\n",
    "    final = [\"~\".join(line[:3]), pres, text, posts, str(transition_value)]\n",
    "    \n",
    "    return \"~\".join(final) + \"\\n\""
   ]
  },
  {
   "cell_type": "code",
   "execution_count": null,
   "metadata": {
    "collapsed": true
   },
   "outputs": [],
   "source": [
    "def mark_transition_lines(raw, bill_times, out, seperate_pre_post=False):\n",
    "    bill_times_splits = bill_times.readline().split(\"~\")\n",
    "    for line in raw:\n",
    "        transition_value = get_transition_value(line, bill_times_splits[2], int(bill_times_splits[3]), int(bill_times_splits[4]))\n",
    "        if (transition_value == 1):\n",
    "            bill_line = bill_times.readline()\n",
    "            if (bill_line == \"\"):\n",
    "                bill_times_splits = [-1, -1, -1, -1, -1, -1]\n",
    "            else:\n",
    "                bill_times_splits = bill_line.split(\"~\")\n",
    "                \n",
    "        if (seperate_pre_post):\n",
    "            \n",
    "            final = write_pre_post_cols(line, transition_value)\n",
    "            out.write(final)\n",
    "            \n",
    "        else:\n",
    "            out.write(line.rstrip('\\n') + \"~\" + str(transition_value) + \"\\n\")"
   ]
  },
  {
   "cell_type": "code",
   "execution_count": null,
   "metadata": {
    "collapsed": false
   },
   "outputs": [],
   "source": [
    "def output_training_lines(header, filename, seperate_pre_post=False):\n",
    "    with open(cleaned_raw_filename, 'r') as raw:\n",
    "        with open(bill_start_end_times_filename, 'r') as bill_times:\n",
    "            with open(filename, 'w') as out:\n",
    "                #consume/write headings\n",
    "                raw.readline()\n",
    "                bill_times.readline()\n",
    "                #out.write(\"start~end~video_id~text~transition_value\\n\")\n",
    "                out.write(header)\n",
    "\n",
    "                #mark the transitions\n",
    "                mark_transition_lines(raw, bill_times, out, seperate_pre_post=seperate_pre_post)"
   ]
  },
  {
   "cell_type": "code",
   "execution_count": null,
   "metadata": {
    "collapsed": false
   },
   "outputs": [],
   "source": [
    "output_training_lines(\"start~end~video_id~text~transition_value\\n\", OUTPUT_TRAINING_BINARY_FILENAME)"
   ]
  },
  {
   "cell_type": "code",
   "execution_count": null,
   "metadata": {
    "collapsed": false
   },
   "outputs": [],
   "source": [
    "output_training_lines(\"start~end~video_id~pre~text~post~transition_value\\n\", OUTPUT_TRAINING_BINARY_FILENAME_SEPERATED,\n",
    " seperate_pre_post=True)"
   ]
  },
  {
   "cell_type": "markdown",
   "metadata": {},
   "source": [
    "### Mark transition lines (n-range)."
   ]
  },
  {
   "cell_type": "code",
   "execution_count": null,
   "metadata": {
    "collapsed": true
   },
   "outputs": [],
   "source": [
    "n = 5"
   ]
  },
  {
   "cell_type": "code",
   "execution_count": null,
   "metadata": {
    "collapsed": false
   },
   "outputs": [],
   "source": [
    "n_range = pd.read_csv(OUTPUT_TRAINING_BINARY_FILENAME, sep=\"~\")"
   ]
  },
  {
   "cell_type": "code",
   "execution_count": null,
   "metadata": {
    "collapsed": false
   },
   "outputs": [],
   "source": [
    "transition_indexes = n_range.index[n_range[\"transition_value\"] == 1].tolist()\n",
    "new_transition_indexes = []\n",
    "\n",
    "length = len(n_range)\n",
    "for i in transition_indexes:\n",
    "    for x in range(-n, n+1):\n",
    "        if (i + x >= 0 and i + x < length):\n",
    "            new_transition_indexes.append(i + x)\n",
    "            \n",
    "n_range.loc[new_transition_indexes, \"transition_value\"] = 1\n",
    "\n",
    "n_range.to_csv(OUTPUT_TRAINING_N_RANGE_FILENAME, sep=\"~\", index=False)"
   ]
  },
  {
   "cell_type": "markdown",
   "metadata": {},
   "source": [
    "### Collapse transition lines (n-range)."
   ]
  },
  {
   "cell_type": "code",
   "execution_count": null,
   "metadata": {
    "collapsed": true
   },
   "outputs": [],
   "source": [
    "def collapse_transitions(uncollapsed, collapsed):\n",
    "    accumulated_text = \"\"\n",
    "    accumulating = False\n",
    "    \n",
    "    for line in uncollapsed:\n",
    "        split_line = line.split(\"~\")\n",
    "        transition_value = int(split_line[4])\n",
    "        text = split_line[2] + \" \"\n",
    "        \n",
    "        if transition_value == 1 and accumulating:\n",
    "            accumulated_text = accumulated_text + text\n",
    "        elif transition_value == 1 and not accumulating:\n",
    "            accumulating = True\n",
    "            accumulated_text = accumulated_text + text\n",
    "        elif transition_value == 0 and accumulating:\n",
    "            collapsed.write(split_line[0] + \"~\" + split_line[1] + \"~\" +\n",
    "                            accumulated_text + \"~\" + split_line[3] + \"~1\\n\")\n",
    "            collapsed.write(line)\n",
    "            accumulating = False\n",
    "            accumulated_text = \"\"\n",
    "        else:\n",
    "            collapsed.write(line)"
   ]
  },
  {
   "cell_type": "code",
   "execution_count": null,
   "metadata": {
    "collapsed": true
   },
   "outputs": [],
   "source": [
    "with open(OUTPUT_TRAINING_N_RANGE_FILENAME, 'r') as uncollapsed:\n",
    "    with open(OUTPUT_TRAINING_N_RANGE_COLLAPSED_FILENAME, 'w') as collapsed:\n",
    "        #consume/write headings\n",
    "        h = uncollapsed.readline()\n",
    "        collapsed.write(h)\n",
    "            \n",
    "        #collapse transitions\n",
    "        collapse_transitions(uncollapsed, collapsed)"
   ]
  },
  {
   "cell_type": "code",
   "execution_count": null,
   "metadata": {
    "collapsed": false
   },
   "outputs": [],
   "source": [
    "print(\"...Training data complete.\")"
   ]
  },
  {
   "cell_type": "markdown",
   "metadata": {},
   "source": [
    "### Verification"
   ]
  },
  {
   "cell_type": "code",
   "execution_count": null,
   "metadata": {
    "collapsed": false
   },
   "outputs": [],
   "source": [
    "binary = pd.read_csv(OUTPUT_TRAINING_BINARY_FILENAME, sep=\"~\")\n",
    "bill_times = pd.read_csv(bill_start_end_times_filename, sep=\"~\")"
   ]
  },
  {
   "cell_type": "code",
   "execution_count": null,
   "metadata": {
    "collapsed": false
   },
   "outputs": [],
   "source": [
    "binary.head()"
   ]
  },
  {
   "cell_type": "code",
   "execution_count": null,
   "metadata": {
    "collapsed": false
   },
   "outputs": [],
   "source": [
    "assert(len(binary[binary[\"transition_value\"]==1])==len(bill_times))"
   ]
  },
  {
   "cell_type": "code",
   "execution_count": null,
   "metadata": {
    "collapsed": false
   },
   "outputs": [],
   "source": [
    "len(bill_times)"
   ]
  },
  {
   "cell_type": "code",
   "execution_count": null,
   "metadata": {
    "collapsed": false
   },
   "outputs": [],
   "source": [
    "len(binary[binary[\"transition_value\"]==1])"
   ]
  },
  {
   "cell_type": "code",
   "execution_count": null,
   "metadata": {
    "collapsed": true
   },
   "outputs": [],
   "source": []
  }
 ],
 "metadata": {
  "anaconda-cloud": {},
  "kernelspec": {
   "display_name": "Python 3",
   "language": "python",
   "name": "python3"
  },
  "language_info": {
   "codemirror_mode": {
    "name": "ipython",
    "version": 3
   },
   "file_extension": ".py",
   "mimetype": "text/x-python",
   "name": "python",
   "nbconvert_exporter": "python",
   "pygments_lexer": "ipython3",
   "version": "3.5.2"
  }
 },
 "nbformat": 4,
 "nbformat_minor": 2
}
