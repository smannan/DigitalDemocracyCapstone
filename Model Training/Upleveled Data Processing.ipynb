{
 "cells": [
  {
   "cell_type": "markdown",
   "metadata": {},
   "source": [
    "# Upleveled Data Processing"
   ]
  },
  {
   "cell_type": "code",
   "execution_count": 1,
   "metadata": {
    "collapsed": true
   },
   "outputs": [],
   "source": [
    "import sys\n",
    "import numpy as np\n",
    "import pandas as pd"
   ]
  },
  {
   "cell_type": "markdown",
   "metadata": {},
   "source": [
    "### Define constants.  Determine the upleveled transcript that will be processed."
   ]
  },
  {
   "cell_type": "code",
   "execution_count": 2,
   "metadata": {
    "collapsed": true
   },
   "outputs": [],
   "source": [
    "default_original_upleveled_filename = \"../data/original/upleveled.txt\"\n",
    "default_temp_folder = \".\""
   ]
  },
  {
   "cell_type": "code",
   "execution_count": 3,
   "metadata": {
    "collapsed": false
   },
   "outputs": [],
   "source": [
    "original_upleveled_filename = default_original_upleveled_filename\n",
    "temp_folder = default_temp_folder"
   ]
  },
  {
   "cell_type": "code",
   "execution_count": 4,
   "metadata": {
    "collapsed": false
   },
   "outputs": [],
   "source": [
    "#constants\n",
    "TEMP_ORIGINAL_UPLEVELED_SORTED_FILENAME = temp_folder + \"/temp_original_upleveled_sorted.csv\"\n",
    "TEMP_MARKED_UPLEVELED_FILENAME = temp_folder + \"/temp_marked_upleveled.csv\"\n",
    "TEMP_BILL_START_END_TIMES_ALL_FILENAME = temp_folder + \"/temp_bill_start_end_times_all.csv\"\n",
    "TEMP_BILL_START_END_TIMES_LONGEST_FILENAME = temp_folder + \"/temp_bill_start_end_times_longest.csv\""
   ]
  },
  {
   "cell_type": "markdown",
   "metadata": {},
   "source": [
    "### Read in the transcript specified above, and sort by video_id, hearing_id, and speaker_start_time."
   ]
  },
  {
   "cell_type": "code",
   "execution_count": 5,
   "metadata": {
    "collapsed": false
   },
   "outputs": [
    {
     "name": "stdout",
     "output_type": "stream",
     "text": [
      "...Creating bill time tables...\n"
     ]
    }
   ],
   "source": [
    "print(\"...Creating bill time tables...\")"
   ]
  },
  {
   "cell_type": "code",
   "execution_count": 6,
   "metadata": {
    "collapsed": false
   },
   "outputs": [],
   "source": [
    "upleveled = pd.read_table(original_upleveled_filename, sep='~~~~~', engine='python')\n",
    "upleveled = upleveled.sort_values([\"video_id\", \"hearing_id\", \"speaker_start_time\"])\n",
    "upleveled.to_csv(TEMP_ORIGINAL_UPLEVELED_SORTED_FILENAME, sep=\"~\", index=False)"
   ]
  },
  {
   "cell_type": "markdown",
   "metadata": {},
   "source": [
    "### Tag lines with bill_change_tag, which increments every time the bill is changed."
   ]
  },
  {
   "cell_type": "code",
   "execution_count": 7,
   "metadata": {
    "collapsed": true
   },
   "outputs": [],
   "source": [
    "def tag_bill_change_lines(original, cleaned):\n",
    "    line = original.readline()\n",
    "    current_bill_id = line.split(\"~\")[0]\n",
    "    i = 0\n",
    "    cleaned.write(line.rstrip(\"\\n\") + \"~0\\n\")\n",
    "    \n",
    "    for line in original:\n",
    "        line_splits = line.split(\"~\")\n",
    "        \n",
    "        if (line_splits[0] != current_bill_id):\n",
    "            current_bill_id = line_splits[0]\n",
    "            i += 1\n",
    "        \n",
    "        cleaned.write(line.rstrip(\"\\n\") + \"~\" + str(i) + \"\\n\")"
   ]
  },
  {
   "cell_type": "code",
   "execution_count": 8,
   "metadata": {
    "collapsed": true
   },
   "outputs": [],
   "source": [
    "with open(TEMP_ORIGINAL_UPLEVELED_SORTED_FILENAME, 'r') as original:\n",
    "    with open(TEMP_MARKED_UPLEVELED_FILENAME, 'w') as cleaned:\n",
    "        #consume/write headings\n",
    "        h = original.readline()\n",
    "        cleaned.write(h.rstrip(\"\\n\") + \"~bill_change_tag\\n\")\n",
    "            \n",
    "        tag_bill_change_lines(original, cleaned)"
   ]
  },
  {
   "cell_type": "markdown",
   "metadata": {},
   "source": [
    "### Create tables of bills and when they are being discussed."
   ]
  },
  {
   "cell_type": "code",
   "execution_count": 9,
   "metadata": {
    "collapsed": true
   },
   "outputs": [],
   "source": [
    "#tagged_upleveled = pd.read_table(TEMP_MARKED_UPLEVELED_FILENAME, sep='~')"
   ]
  },
  {
   "cell_type": "code",
   "execution_count": 10,
   "metadata": {
    "collapsed": false
   },
   "outputs": [],
   "source": [
    "tagged_upleveled = pd.read_table(TEMP_MARKED_UPLEVELED_FILENAME, sep='~')\n",
    "#video_ids = np.unique(tagged_upleveled['video_id'])[1:11:3]\n",
    "#tagged_upleveled = tagged_upleveled[~tagged_upleveled['video_id'].isin(video_ids)]"
   ]
  },
  {
   "cell_type": "code",
   "execution_count": 11,
   "metadata": {
    "collapsed": true
   },
   "outputs": [],
   "source": [
    "bill_start_times = tagged_upleveled.groupby([\"bill_change_tag\"]).head(1)\n",
    "bill_end_times = tagged_upleveled.groupby([\"bill_change_tag\"]).tail(1)\n",
    "bill_start_end_times = pd.merge(bill_start_times[[\"bill_id\", \"hearing_id\", \"video_id\", \"speaker_start_time\", \"bill_change_tag\"]],\n",
    "                                bill_end_times[[\"speaker_end_time\", \"bill_change_tag\"]],\n",
    "                                on=[\"bill_change_tag\"]).drop([\"bill_change_tag\"], axis=1)\n",
    "bill_start_end_times[\"length\"] = bill_start_end_times[\"speaker_end_time\"] - bill_start_end_times[\"speaker_start_time\"]\n",
    "bill_start_end_times = bill_start_end_times.sort_values([\"video_id\", \"speaker_start_time\"])"
   ]
  },
  {
   "cell_type": "code",
   "execution_count": 12,
   "metadata": {
    "collapsed": true
   },
   "outputs": [],
   "source": [
    "longest_bill_discussions = bill_start_end_times.sort_values([\"bill_id\", \"length\"]).groupby([\"bill_id\"]).tail(1)\n",
    "longest_bill_discussions = longest_bill_discussions.sort_values([\"video_id\", \"speaker_start_time\"])"
   ]
  },
  {
   "cell_type": "code",
   "execution_count": 13,
   "metadata": {
    "collapsed": false
   },
   "outputs": [
    {
     "name": "stdout",
     "output_type": "stream",
     "text": [
      "...Creating bill time tables complete.\n"
     ]
    }
   ],
   "source": [
    "bill_start_end_times.to_csv(TEMP_BILL_START_END_TIMES_ALL_FILENAME, sep=\"~\", index=False)\n",
    "longest_bill_discussions.to_csv(TEMP_BILL_START_END_TIMES_LONGEST_FILENAME, sep=\"~\", index=False)\n",
    "print(\"...Creating bill time tables complete.\")"
   ]
  },
  {
   "cell_type": "code",
   "execution_count": null,
   "metadata": {
    "collapsed": true
   },
   "outputs": [],
   "source": []
  },
  {
   "cell_type": "code",
   "execution_count": null,
   "metadata": {
    "collapsed": true
   },
   "outputs": [],
   "source": []
  }
 ],
 "metadata": {
  "anaconda-cloud": {},
  "kernelspec": {
   "display_name": "Python 3",
   "language": "python",
   "name": "python3"
  },
  "language_info": {
   "codemirror_mode": {
    "name": "ipython",
    "version": 3
   },
   "file_extension": ".py",
   "mimetype": "text/x-python",
   "name": "python",
   "nbconvert_exporter": "python",
   "pygments_lexer": "ipython3",
   "version": "3.5.2"
  }
 },
 "nbformat": 4,
 "nbformat_minor": 2
}
